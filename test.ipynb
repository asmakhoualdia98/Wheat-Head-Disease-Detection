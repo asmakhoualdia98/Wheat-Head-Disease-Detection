{
  "cells": [
    {
      "cell_type": "markdown",
      "metadata": {
        "id": "view-in-github",
        "colab_type": "text"
      },
      "source": [
        "<a href=\"https://colab.research.google.com/github/asmakhoualdia98/Wheat-Head-Disease-Detection/blob/main/test.ipynb\" target=\"_parent\"><img src=\"https://colab.research.google.com/assets/colab-badge.svg\" alt=\"Open In Colab\"/></a>"
      ]
    },
    {
      "cell_type": "code",
      "execution_count": null,
      "id": "736fbf4c",
      "metadata": {
        "id": "736fbf4c",
        "outputId": "db4db562-be48-48c0-9e46-981d1e9ad073"
      },
      "outputs": [
        {
          "name": "stdout",
          "output_type": "stream",
          "text": [
            "WARNING:tensorflow:From C:\\Users\\Asma\\anaconda3\\Lib\\site-packages\\keras\\src\\losses.py:2976: The name tf.losses.sparse_softmax_cross_entropy is deprecated. Please use tf.compat.v1.losses.sparse_softmax_cross_entropy instead.\n",
            "\n"
          ]
        }
      ],
      "source": [
        "from keras.models import load_model\n",
        "import numpy as np\n",
        "import imutils\n",
        "import cv2\n",
        "from keras.models import load_model\n",
        "from collections import deque\n",
        "import pickle"
      ]
    },
    {
      "cell_type": "code",
      "execution_count": null,
      "id": "9a148ffe",
      "metadata": {
        "id": "9a148ffe"
      },
      "outputs": [],
      "source": [
        "model_path = \"model.h5\"\n",
        "input = \"leaf.jfif\"\n",
        "label = \"lb.pickle\"\n"
      ]
    },
    {
      "cell_type": "code",
      "execution_count": null,
      "id": "097788b6",
      "metadata": {
        "id": "097788b6"
      },
      "outputs": [],
      "source": [
        "moodel = load_model(model_path)\n",
        "lb = pickle.loads(open(\"label\", \"rb\").read())"
      ]
    },
    {
      "cell_type": "code",
      "execution_count": null,
      "id": "9c301f95",
      "metadata": {
        "id": "9c301f95"
      },
      "outputs": [],
      "source": [
        "mean = np.array([123.68, 116.779, 103.939][::1], dtype=\"float32\")"
      ]
    },
    {
      "cell_type": "code",
      "execution_count": null,
      "id": "767b222e",
      "metadata": {
        "id": "767b222e"
      },
      "outputs": [],
      "source": [
        "Q = deque(maxlen=128)"
      ]
    },
    {
      "cell_type": "code",
      "execution_count": null,
      "id": "7d258819",
      "metadata": {
        "id": "7d258819"
      },
      "outputs": [],
      "source": [
        "vs = cv2.VideoCapture(input)"
      ]
    },
    {
      "cell_type": "code",
      "execution_count": null,
      "id": "c0cce08e",
      "metadata": {
        "id": "c0cce08e"
      },
      "outputs": [],
      "source": [
        "(W, H) = (None, None)"
      ]
    },
    {
      "cell_type": "code",
      "execution_count": null,
      "id": "8d4303fd",
      "metadata": {
        "id": "8d4303fd"
      },
      "outputs": [],
      "source": [
        "while True:\n",
        "\t(grabbed, frame) = vs.read()\n",
        "\n",
        "\tif not grabbed:\n",
        "\t\tbreak\n",
        "\n",
        "\tif W is None or H is None:\n",
        "\t\t(H, W) = frame.shape[:2]\n",
        "\n",
        "\toutput = frame.copy()\n",
        "\tframe = cv2.cvtColor(frame, cv2.COLOR_BGR2RGB)\n",
        "\tframe = cv2.resize(frame, (224, 224)).astype(\"float32\")\n",
        "\tframe -= mean\n",
        "\n",
        "\tpreds = moodel.predict(np.expand_dims(frame, axis=0))[0]\n",
        "\tQ.append(preds)\n",
        "\n",
        "\tresults = np.array(Q).mean(axis=0)\n",
        "\ti = np.argmax(results)\n",
        "\tlabel = lb.classes_[i]\n",
        "\n",
        "\ttext = \"PREDICTION: {}\".format(label.upper())\n",
        "\tcv2.putText(output, text, (4, 4), cv2.FONT_HERSHEY_SIMPLEX,\n",
        "\t\t0.25, (200,255,155), 2)\n",
        "\n",
        "\tcv2.imshow(\"Output\",output)\n",
        "\tkey = cv2.waitKey(10) & 0xFF\n",
        "\n",
        "\tif key == ord(\"q\"):\n",
        "\t\tbreak\n",
        "\n",
        "vs.release()"
      ]
    },
    {
      "cell_type": "code",
      "execution_count": null,
      "id": "bec587a3",
      "metadata": {
        "id": "bec587a3"
      },
      "outputs": [],
      "source": []
    }
  ],
  "metadata": {
    "kernelspec": {
      "display_name": "Python 3 (ipykernel)",
      "language": "python",
      "name": "python3"
    },
    "language_info": {
      "codemirror_mode": {
        "name": "ipython",
        "version": 3
      },
      "file_extension": ".py",
      "mimetype": "text/x-python",
      "name": "python",
      "nbconvert_exporter": "python",
      "pygments_lexer": "ipython3",
      "version": "3.11.5"
    },
    "colab": {
      "provenance": [],
      "include_colab_link": true
    }
  },
  "nbformat": 4,
  "nbformat_minor": 5
}